{
 "cells": [
  {
   "cell_type": "code",
   "execution_count": 67,
   "metadata": {},
   "outputs": [],
   "source": [
    "# library imports\n",
    "import numpy as np\n",
    "import pandas as pd\n",
    "import matplotlib.pyplot as plt\n",
    "\n",
    "import warnings\n",
    "warnings.filterwarnings(\"ignore\")"
   ]
  },
  {
   "cell_type": "code",
   "execution_count": 115,
   "metadata": {},
   "outputs": [],
   "source": [
    "# data imports\n",
    "path = 'C:/Users/Kavish/Dropbox/_Master of Data Science - UM/WQD7005 - Data Mining/Assignment/Milestone 5/'\n",
    "df = pd.read_csv(path + 'data_combined_sources.csv')\n",
    "df.head()\n",
    "\n",
    "df['Datetime'] = pd.to_datetime(df.Datetime)\n",
    "# df = df.set_index('Datetime')\n",
    "# df = df.sort_values(by='Datetime')\n"
   ]
  },
  {
   "cell_type": "code",
   "execution_count": 116,
   "metadata": {},
   "outputs": [
    {
     "name": "stdout",
     "output_type": "stream",
     "text": [
      "<class 'pandas.core.frame.DataFrame'>\n",
      "RangeIndex: 160307 entries, 0 to 160306\n",
      "Data columns (total 10 columns):\n",
      "Datetime         160307 non-null datetime64[ns]\n",
      "CompanySymbol    160307 non-null object\n",
      "OpenPrice        160307 non-null float64\n",
      "HighPrice        160307 non-null float64\n",
      "LowPrice         160307 non-null float64\n",
      "LastPrice        160307 non-null float64\n",
      "Difference       160307 non-null float64\n",
      "ChangeLabel      160307 non-null object\n",
      "TweetLabel       160307 non-null object\n",
      "NewsLabel        160307 non-null object\n",
      "dtypes: datetime64[ns](1), float64(5), object(4)\n",
      "memory usage: 12.2+ MB\n"
     ]
    }
   ],
   "source": [
    "df.info()"
   ]
  },
  {
   "cell_type": "code",
   "execution_count": 206,
   "metadata": {},
   "outputs": [
    {
     "data": {
      "text/html": [
       "<div>\n",
       "<style scoped>\n",
       "    .dataframe tbody tr th:only-of-type {\n",
       "        vertical-align: middle;\n",
       "    }\n",
       "\n",
       "    .dataframe tbody tr th {\n",
       "        vertical-align: top;\n",
       "    }\n",
       "\n",
       "    .dataframe thead th {\n",
       "        text-align: right;\n",
       "    }\n",
       "</style>\n",
       "<table border=\"1\" class=\"dataframe\">\n",
       "  <thead>\n",
       "    <tr style=\"text-align: right;\">\n",
       "      <th></th>\n",
       "      <th>Datetime</th>\n",
       "      <th>CompanySymbol</th>\n",
       "      <th>OpenPrice</th>\n",
       "      <th>HighPrice</th>\n",
       "      <th>LowPrice</th>\n",
       "      <th>LastPrice</th>\n",
       "      <th>Difference</th>\n",
       "      <th>ChangeLabel</th>\n",
       "      <th>TweetLabel</th>\n",
       "      <th>NewsLabel</th>\n",
       "    </tr>\n",
       "  </thead>\n",
       "  <tbody>\n",
       "    <tr>\n",
       "      <th>0</th>\n",
       "      <td>2019-03-13 19:13:00</td>\n",
       "      <td>3A</td>\n",
       "      <td>0.850</td>\n",
       "      <td>0.855</td>\n",
       "      <td>0.845</td>\n",
       "      <td>0.850</td>\n",
       "      <td>0.000</td>\n",
       "      <td>0</td>\n",
       "      <td>0</td>\n",
       "      <td>0</td>\n",
       "    </tr>\n",
       "    <tr>\n",
       "      <th>1</th>\n",
       "      <td>2019-03-13 19:13:00</td>\n",
       "      <td>A50CHIN-C22</td>\n",
       "      <td>0.140</td>\n",
       "      <td>0.145</td>\n",
       "      <td>0.120</td>\n",
       "      <td>0.135</td>\n",
       "      <td>-0.005</td>\n",
       "      <td>1</td>\n",
       "      <td>1</td>\n",
       "      <td>1</td>\n",
       "    </tr>\n",
       "    <tr>\n",
       "      <th>2</th>\n",
       "      <td>2019-03-13 19:13:00</td>\n",
       "      <td>A50CHIN-C24</td>\n",
       "      <td>0.670</td>\n",
       "      <td>0.670</td>\n",
       "      <td>0.670</td>\n",
       "      <td>0.670</td>\n",
       "      <td>0.000</td>\n",
       "      <td>0</td>\n",
       "      <td>1</td>\n",
       "      <td>0</td>\n",
       "    </tr>\n",
       "    <tr>\n",
       "      <th>3</th>\n",
       "      <td>2019-03-13 19:13:00</td>\n",
       "      <td>A50CHIN-C26</td>\n",
       "      <td>0.000</td>\n",
       "      <td>0.000</td>\n",
       "      <td>0.000</td>\n",
       "      <td>0.430</td>\n",
       "      <td>0.430</td>\n",
       "      <td>2</td>\n",
       "      <td>2</td>\n",
       "      <td>2</td>\n",
       "    </tr>\n",
       "    <tr>\n",
       "      <th>4</th>\n",
       "      <td>2019-03-13 19:13:00</td>\n",
       "      <td>A50CHIN-C28</td>\n",
       "      <td>0.225</td>\n",
       "      <td>0.225</td>\n",
       "      <td>0.210</td>\n",
       "      <td>0.220</td>\n",
       "      <td>-0.005</td>\n",
       "      <td>1</td>\n",
       "      <td>1</td>\n",
       "      <td>1</td>\n",
       "    </tr>\n",
       "  </tbody>\n",
       "</table>\n",
       "</div>"
      ],
      "text/plain": [
       "             Datetime CompanySymbol  OpenPrice  HighPrice  LowPrice  \\\n",
       "0 2019-03-13 19:13:00            3A      0.850      0.855     0.845   \n",
       "1 2019-03-13 19:13:00   A50CHIN-C22      0.140      0.145     0.120   \n",
       "2 2019-03-13 19:13:00   A50CHIN-C24      0.670      0.670     0.670   \n",
       "3 2019-03-13 19:13:00   A50CHIN-C26      0.000      0.000     0.000   \n",
       "4 2019-03-13 19:13:00   A50CHIN-C28      0.225      0.225     0.210   \n",
       "\n",
       "   LastPrice  Difference  ChangeLabel  TweetLabel  NewsLabel  \n",
       "0      0.850       0.000            0           0          0  \n",
       "1      0.135      -0.005            1           1          1  \n",
       "2      0.670       0.000            0           1          0  \n",
       "3      0.430       0.430            2           2          2  \n",
       "4      0.220      -0.005            1           1          1  "
      ]
     },
     "execution_count": 206,
     "metadata": {},
     "output_type": "execute_result"
    }
   ],
   "source": [
    "df.head()"
   ]
  },
  {
   "cell_type": "code",
   "execution_count": 117,
   "metadata": {},
   "outputs": [
    {
     "data": {
      "text/plain": [
       "Datetime         0\n",
       "CompanySymbol    0\n",
       "OpenPrice        0\n",
       "HighPrice        0\n",
       "LowPrice         0\n",
       "LastPrice        0\n",
       "Difference       0\n",
       "ChangeLabel      0\n",
       "TweetLabel       0\n",
       "NewsLabel        0\n",
       "dtype: int64"
      ]
     },
     "execution_count": 117,
     "metadata": {},
     "output_type": "execute_result"
    }
   ],
   "source": [
    "df.isnull().sum()"
   ]
  },
  {
   "cell_type": "code",
   "execution_count": 127,
   "metadata": {},
   "outputs": [
    {
     "data": {
      "image/png": "[encoded data removed]",
      "text/plain": [
       "<Figure size 432x288 with 1 Axes>"
      ]
     },
     "metadata": {
      "needs_background": "light"
     },
     "output_type": "display_data"
    }
   ],
   "source": [
    "def plot_ts(code):\n",
    "    temp = df[df['CompanySymbol'] == code]\n",
    "    temp = temp.set_index('Datetime')\n",
    "    temp = temp.sort_values(by='Datetime')\n",
    "    plt.plot(temp['LastPrice'])\n",
    "    \n",
    "def filter_company(code):\n",
    "    temp = df[df['CompanySymbol'] == code]\n",
    "    temp = temp.set_index('Datetime')\n",
    "    temp = temp.sort_values(by='Datetime')\n",
    "    return temp\n",
    "    \n",
    "plot_ts('MAYBANK')"
   ]
  },
  {
   "cell_type": "code",
   "execution_count": 122,
   "metadata": {},
   "outputs": [
    {
     "data": {
      "text/html": [
       "<div>\n",
       "<style scoped>\n",
       "    .dataframe tbody tr th:only-of-type {\n",
       "        vertical-align: middle;\n",
       "    }\n",
       "\n",
       "    .dataframe tbody tr th {\n",
       "        vertical-align: top;\n",
       "    }\n",
       "\n",
       "    .dataframe thead th {\n",
       "        text-align: right;\n",
       "    }\n",
       "</style>\n",
       "<table border=\"1\" class=\"dataframe\">\n",
       "  <thead>\n",
       "    <tr style=\"text-align: right;\">\n",
       "      <th></th>\n",
       "      <th>ChangeLabel</th>\n",
       "      <th>TweetLabel</th>\n",
       "      <th>NewsLabel</th>\n",
       "    </tr>\n",
       "  </thead>\n",
       "  <tbody>\n",
       "    <tr>\n",
       "      <th>0</th>\n",
       "      <td>0</td>\n",
       "      <td>0</td>\n",
       "      <td>0</td>\n",
       "    </tr>\n",
       "    <tr>\n",
       "      <th>1</th>\n",
       "      <td>1</td>\n",
       "      <td>1</td>\n",
       "      <td>1</td>\n",
       "    </tr>\n",
       "    <tr>\n",
       "      <th>2</th>\n",
       "      <td>0</td>\n",
       "      <td>1</td>\n",
       "      <td>0</td>\n",
       "    </tr>\n",
       "    <tr>\n",
       "      <th>3</th>\n",
       "      <td>2</td>\n",
       "      <td>2</td>\n",
       "      <td>2</td>\n",
       "    </tr>\n",
       "    <tr>\n",
       "      <th>4</th>\n",
       "      <td>1</td>\n",
       "      <td>1</td>\n",
       "      <td>1</td>\n",
       "    </tr>\n",
       "  </tbody>\n",
       "</table>\n",
       "</div>"
      ],
      "text/plain": [
       "   ChangeLabel  TweetLabel  NewsLabel\n",
       "0            0           0          0\n",
       "1            1           1          1\n",
       "2            0           1          0\n",
       "3            2           2          2\n",
       "4            1           1          1"
      ]
     },
     "execution_count": 122,
     "metadata": {},
     "output_type": "execute_result"
    }
   ],
   "source": [
    "# tweet = pd.get_dummies(df['TweetLabel'],drop_first=True)\n",
    "# news = pd.get_dummies(df['NewsLabel'],drop_first=True)\n",
    "\n",
    "df['ChangeLabel'] = df['ChangeLabel'].map( {'Unchanged': 0, 'Decrease': 1, 'Increase': 2} ).astype(int)\n",
    "df['NewsLabel'] = df['NewsLabel'].map( {'Neutral': 0, 'Negative': 1, 'Positive': 2} ).astype(int)\n",
    "df['TweetLabel'] = df['TweetLabel'].map( {'Neutral': 0, 'Negative': 1, 'Positive': 2} ).astype(int)\n",
    "\n",
    "new_df = df.drop(['Datetime','CompanySymbol','OpenPrice','HighPrice','LowPrice','LastPrice','Difference'],axis=1)\n",
    "new_df.head()"
   ]
  },
  {
   "cell_type": "code",
   "execution_count": 123,
   "metadata": {},
   "outputs": [],
   "source": [
    "from sklearn.model_selection import train_test_split\n",
    "\n",
    "X_train, X_test, y_train, y_test = train_test_split(new_df.drop('ChangeLabel',axis=1),new_df['ChangeLabel'], test_size=0.30,random_state=101)"
   ]
  },
  {
   "cell_type": "code",
   "execution_count": 128,
   "metadata": {},
   "outputs": [],
   "source": [
    "from sklearn.linear_model import LogisticRegression\n",
    "\n",
    "logmodel = LogisticRegression()\n",
    "logmodel.fit(X_train,y_train)\n",
    "predictions = logmodel.predict(X_test)"
   ]
  },
  {
   "cell_type": "code",
   "execution_count": 129,
   "metadata": {},
   "outputs": [
    {
     "name": "stdout",
     "output_type": "stream",
     "text": [
      "              precision    recall  f1-score   support\n",
      "\n",
      "           0       0.66      0.67      0.66     12126\n",
      "           1       0.00      0.00      0.00      7158\n",
      "           2       0.74      0.92      0.82     28809\n",
      "\n",
      "   micro avg       0.72      0.72      0.72     48093\n",
      "   macro avg       0.46      0.53      0.49     48093\n",
      "weighted avg       0.61      0.72      0.66     48093\n",
      "\n",
      "Accuracy: 0.7161541180629197\n"
     ]
    }
   ],
   "source": [
    "from sklearn import metrics\n",
    "from sklearn.metrics import classification_report\n",
    "\n",
    "print(classification_report(y_test,predictions))\n",
    "print(\"Accuracy:\",metrics.accuracy_score(y_test, predictions))"
   ]
  },
  {
   "cell_type": "code",
   "execution_count": 130,
   "metadata": {},
   "outputs": [
    {
     "data": {
      "image/png": "[encoded data removed]",
      "text/plain": [
       "<Figure size 432x288 with 1 Axes>"
      ]
     },
     "metadata": {
      "needs_background": "light"
     },
     "output_type": "display_data"
    }
   ],
   "source": [
    "plot_ts('MAYBANK')"
   ]
  },
  {
   "cell_type": "code",
   "execution_count": 131,
   "metadata": {},
   "outputs": [
    {
     "data": {
      "text/html": [
       "<div>\n",
       "<style scoped>\n",
       "    .dataframe tbody tr th:only-of-type {\n",
       "        vertical-align: middle;\n",
       "    }\n",
       "\n",
       "    .dataframe tbody tr th {\n",
       "        vertical-align: top;\n",
       "    }\n",
       "\n",
       "    .dataframe thead th {\n",
       "        text-align: right;\n",
       "    }\n",
       "</style>\n",
       "<table border=\"1\" class=\"dataframe\">\n",
       "  <thead>\n",
       "    <tr style=\"text-align: right;\">\n",
       "      <th></th>\n",
       "      <th>CompanySymbol</th>\n",
       "      <th>OpenPrice</th>\n",
       "      <th>HighPrice</th>\n",
       "      <th>LowPrice</th>\n",
       "      <th>LastPrice</th>\n",
       "      <th>Difference</th>\n",
       "      <th>ChangeLabel</th>\n",
       "      <th>TweetLabel</th>\n",
       "      <th>NewsLabel</th>\n",
       "    </tr>\n",
       "    <tr>\n",
       "      <th>Datetime</th>\n",
       "      <th></th>\n",
       "      <th></th>\n",
       "      <th></th>\n",
       "      <th></th>\n",
       "      <th></th>\n",
       "      <th></th>\n",
       "      <th></th>\n",
       "      <th></th>\n",
       "      <th></th>\n",
       "    </tr>\n",
       "  </thead>\n",
       "  <tbody>\n",
       "    <tr>\n",
       "      <th>2019-02-22 19:11:00</th>\n",
       "      <td>MAYBANK</td>\n",
       "      <td>9.53</td>\n",
       "      <td>9.57</td>\n",
       "      <td>9.52</td>\n",
       "      <td>9.54</td>\n",
       "      <td>0.01</td>\n",
       "      <td>2</td>\n",
       "      <td>2</td>\n",
       "      <td>1</td>\n",
       "    </tr>\n",
       "    <tr>\n",
       "      <th>2019-02-25 09:06:00</th>\n",
       "      <td>MAYBANK</td>\n",
       "      <td>9.56</td>\n",
       "      <td>9.56</td>\n",
       "      <td>9.54</td>\n",
       "      <td>9.56</td>\n",
       "      <td>0.00</td>\n",
       "      <td>0</td>\n",
       "      <td>2</td>\n",
       "      <td>0</td>\n",
       "    </tr>\n",
       "    <tr>\n",
       "      <th>2019-02-25 17:19:00</th>\n",
       "      <td>MAYBANK</td>\n",
       "      <td>9.56</td>\n",
       "      <td>9.57</td>\n",
       "      <td>9.51</td>\n",
       "      <td>9.54</td>\n",
       "      <td>-0.02</td>\n",
       "      <td>1</td>\n",
       "      <td>1</td>\n",
       "      <td>1</td>\n",
       "    </tr>\n",
       "    <tr>\n",
       "      <th>2019-02-25 19:11:00</th>\n",
       "      <td>MAYBANK</td>\n",
       "      <td>9.56</td>\n",
       "      <td>9.57</td>\n",
       "      <td>9.51</td>\n",
       "      <td>9.54</td>\n",
       "      <td>-0.02</td>\n",
       "      <td>1</td>\n",
       "      <td>1</td>\n",
       "      <td>1</td>\n",
       "    </tr>\n",
       "    <tr>\n",
       "      <th>2019-02-26 09:07:00</th>\n",
       "      <td>MAYBANK</td>\n",
       "      <td>9.56</td>\n",
       "      <td>9.57</td>\n",
       "      <td>9.55</td>\n",
       "      <td>9.55</td>\n",
       "      <td>-0.01</td>\n",
       "      <td>1</td>\n",
       "      <td>1</td>\n",
       "      <td>0</td>\n",
       "    </tr>\n",
       "  </tbody>\n",
       "</table>\n",
       "</div>"
      ],
      "text/plain": [
       "                    CompanySymbol  OpenPrice  HighPrice  LowPrice  LastPrice  \\\n",
       "Datetime                                                                       \n",
       "2019-02-22 19:11:00       MAYBANK       9.53       9.57      9.52       9.54   \n",
       "2019-02-25 09:06:00       MAYBANK       9.56       9.56      9.54       9.56   \n",
       "2019-02-25 17:19:00       MAYBANK       9.56       9.57      9.51       9.54   \n",
       "2019-02-25 19:11:00       MAYBANK       9.56       9.57      9.51       9.54   \n",
       "2019-02-26 09:07:00       MAYBANK       9.56       9.57      9.55       9.55   \n",
       "\n",
       "                     Difference  ChangeLabel  TweetLabel  NewsLabel  \n",
       "Datetime                                                             \n",
       "2019-02-22 19:11:00        0.01            2           2          1  \n",
       "2019-02-25 09:06:00        0.00            0           2          0  \n",
       "2019-02-25 17:19:00       -0.02            1           1          1  \n",
       "2019-02-25 19:11:00       -0.02            1           1          1  \n",
       "2019-02-26 09:07:00       -0.01            1           1          0  "
      ]
     },
     "execution_count": 131,
     "metadata": {},
     "output_type": "execute_result"
    }
   ],
   "source": [
    "from statsmodels.tsa.arima_model import ARIMA\n",
    "from random import random\n",
    "\n",
    "data = filter_company('MAYBANK')\n",
    "data.head()"
   ]
  },
  {
   "cell_type": "code",
   "execution_count": 132,
   "metadata": {},
   "outputs": [
    {
     "data": {
      "text/html": [
       "<table class=\"simpletable\">\n",
       "<caption>ARIMA Model Results</caption>\n",
       "<tr>\n",
       "  <th>Dep. Variable:</th>        <td>D.y</td>       <th>  No. Observations:  </th>    <td>92</td>   \n",
       "</tr>\n",
       "<tr>\n",
       "  <th>Model:</th>          <td>ARIMA(1, 1, 1)</td>  <th>  Log Likelihood     </th>  <td>211.196</td>\n",
       "</tr>\n",
       "<tr>\n",
       "  <th>Method:</th>             <td>css-mle</td>     <th>  S.D. of innovations</th>   <td>0.024</td> \n",
       "</tr>\n",
       "<tr>\n",
       "  <th>Date:</th>          <td>Sun, 02 Jun 2019</td> <th>  AIC                </th> <td>-414.393</td>\n",
       "</tr>\n",
       "<tr>\n",
       "  <th>Time:</th>              <td>16:52:15</td>     <th>  BIC                </th> <td>-404.306</td>\n",
       "</tr>\n",
       "<tr>\n",
       "  <th>Sample:</th>                <td>1</td>        <th>  HQIC               </th> <td>-410.322</td>\n",
       "</tr>\n",
       "<tr>\n",
       "  <th></th>                       <td> </td>        <th>                     </th>     <td> </td>   \n",
       "</tr>\n",
       "</table>\n",
       "<table class=\"simpletable\">\n",
       "<tr>\n",
       "      <td></td>         <th>coef</th>     <th>std err</th>      <th>z</th>      <th>P>|z|</th>  <th>[0.025</th>    <th>0.975]</th>  \n",
       "</tr>\n",
       "<tr>\n",
       "  <th>const</th>     <td>   -0.0030</td> <td>    0.002</td> <td>   -1.704</td> <td> 0.092</td> <td>   -0.006</td> <td>    0.000</td>\n",
       "</tr>\n",
       "<tr>\n",
       "  <th>ar.L1.D.y</th> <td>    0.1971</td> <td>    0.269</td> <td>    0.733</td> <td> 0.465</td> <td>   -0.330</td> <td>    0.724</td>\n",
       "</tr>\n",
       "<tr>\n",
       "  <th>ma.L1.D.y</th> <td>   -0.4444</td> <td>    0.236</td> <td>   -1.881</td> <td> 0.063</td> <td>   -0.907</td> <td>    0.019</td>\n",
       "</tr>\n",
       "</table>\n",
       "<table class=\"simpletable\">\n",
       "<caption>Roots</caption>\n",
       "<tr>\n",
       "    <td></td>   <th>            Real</th>  <th>         Imaginary</th> <th>         Modulus</th>  <th>        Frequency</th>\n",
       "</tr>\n",
       "<tr>\n",
       "  <th>AR.1</th> <td>           5.0748</td> <td>          +0.0000j</td> <td>           5.0748</td> <td>           0.0000</td>\n",
       "</tr>\n",
       "<tr>\n",
       "  <th>MA.1</th> <td>           2.2500</td> <td>          +0.0000j</td> <td>           2.2500</td> <td>           0.0000</td>\n",
       "</tr>\n",
       "</table>"
      ],
      "text/plain": [
       "<class 'statsmodels.iolib.summary.Summary'>\n",
       "\"\"\"\n",
       "                             ARIMA Model Results                              \n",
       "==============================================================================\n",
       "Dep. Variable:                    D.y   No. Observations:                   92\n",
       "Model:                 ARIMA(1, 1, 1)   Log Likelihood                 211.196\n",
       "Method:                       css-mle   S.D. of innovations              0.024\n",
       "Date:                Sun, 02 Jun 2019   AIC                           -414.393\n",
       "Time:                        16:52:15   BIC                           -404.306\n",
       "Sample:                             1   HQIC                          -410.322\n",
       "                                                                              \n",
       "==============================================================================\n",
       "                 coef    std err          z      P>|z|      [0.025      0.975]\n",
       "------------------------------------------------------------------------------\n",
       "const         -0.0030      0.002     -1.704      0.092      -0.006       0.000\n",
       "ar.L1.D.y      0.1971      0.269      0.733      0.465      -0.330       0.724\n",
       "ma.L1.D.y     -0.4444      0.236     -1.881      0.063      -0.907       0.019\n",
       "                                    Roots                                    \n",
       "=============================================================================\n",
       "                  Real          Imaginary           Modulus         Frequency\n",
       "-----------------------------------------------------------------------------\n",
       "AR.1            5.0748           +0.0000j            5.0748            0.0000\n",
       "MA.1            2.2500           +0.0000j            2.2500            0.0000\n",
       "-----------------------------------------------------------------------------\n",
       "\"\"\""
      ]
     },
     "execution_count": 132,
     "metadata": {},
     "output_type": "execute_result"
    }
   ],
   "source": [
    "maybank_last_price = data.LastPrice.values\n",
    "maybank_last_price\n",
    "\n",
    "model = ARIMA(maybank_last_price, order=(1, 1, 1))\n",
    "model_fit = model.fit(disp=0)\n",
    "# make prediction\n",
    "yhat = model_fit.predict(len(data), len(data), typ='levels')\n",
    "model_fit.summary()"
   ]
  },
  {
   "cell_type": "code",
   "execution_count": 133,
   "metadata": {},
   "outputs": [
    {
     "data": {
      "image/png": "[encoded data removed]",
      "text/plain": [
       "<Figure size 432x288 with 1 Axes>"
      ]
     },
     "metadata": {
      "needs_background": "light"
     },
     "output_type": "display_data"
    }
   ],
   "source": [
    "model_fit.plot_predict(dynamic=False)\n",
    "plt.show()"
   ]
  },
  {
   "cell_type": "code",
   "execution_count": 203,
   "metadata": {},
   "outputs": [
    {
     "data": {
      "image/png": "[encoded data removed]",
      "text/plain": [
       "<Figure size 1000x400 with 1 Axes>"
      ]
     },
     "metadata": {
      "needs_background": "light"
     },
     "output_type": "display_data"
    }
   ],
   "source": [
    "from statsmodels.tsa.stattools import acf\n",
    "\n",
    "\n",
    "new_data = data[['LastPrice']]\n",
    "\n",
    "# Create Training and Test\n",
    "train = new_data.values[:85]\n",
    "test = new_data.values[-8:]\n",
    "\n",
    "\n",
    "# # Create Training and Test\n",
    "# train = maybank_last_price[:83]\n",
    "# test = maybank_last_price[-10:]\n",
    "\n",
    "model = ARIMA(train, order=(1, 1, 1))  \n",
    "fitted = model.fit(disp=-1)  \n",
    "\n",
    "fc, se, conf = fitted.forecast(10, alpha=0.05)  # 95% conf\n",
    "\n",
    "# Make as pandas series\n",
    "fc_series = pd.Series(fc)\n",
    "lower_series = pd.Series(conf[:, 0])\n",
    "upper_series = pd.Series(conf[:, 1])\n",
    "\n",
    "\n",
    "# for i in range(85):\n",
    "#     test = np.insert(test,0,'NaN', axis=0)\n",
    "\n",
    "# Plot\n",
    "plt.figure(figsize=(10,4), dpi=100)\n",
    "plt.plot(train, label='training')\n",
    "plt.plot(test, label='actual')\n",
    "plt.plot(fc_series, label='forecast')\n",
    "plt.fill_between(lower_series.index, lower_series, upper_series,color='k', alpha=.15)\n",
    "plt.title('Forecast vs Actuals')\n",
    "plt.legend(loc='upper right', fontsize=8)\n",
    "plt.show()"
   ]
  }
 ],
 "metadata": {
  "kernelspec": {
   "display_name": "Python 3",
   "language": "python",
   "name": "python3"
  },
  "language_info": {
   "codemirror_mode": {
    "name": "ipython",
    "version": 3
   },
   "file_extension": ".py",
   "mimetype": "text/x-python",
   "name": "python",
   "nbconvert_exporter": "python",
   "pygments_lexer": "ipython3",
   "version": "3.6.8"
  }
 },
 "nbformat": 4,
 "nbformat_minor": 2
}
